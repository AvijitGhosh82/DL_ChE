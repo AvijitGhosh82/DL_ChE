{
 "cells": [
  {
   "cell_type": "code",
   "execution_count": 8,
   "metadata": {},
   "outputs": [],
   "source": [
    "import spacy\n",
    "nlp = spacy.load('en')"
   ]
  },
  {
   "cell_type": "code",
   "execution_count": 35,
   "metadata": {
    "collapsed": true
   },
   "outputs": [],
   "source": [
    "ben = \"12 12  0  0  0  0  0  0  0  0999 V2000     0.1641   -1.3726   -0.0002 C   0  0  0  0  0  0  0  0  0  0  0  0    -1.1066   -0.8284    0.0001 C   0  0  0  0  0  0  0  0  0  0  0  0    -1.2707    0.5442   -0.0000 C   0  0  0  0  0  0  0  0  0  0  0  0    -0.1641    1.3726    0.0000 C   0  0  0  0  0  0  0  0  0  0  0  0     1.1066    0.8284    0.0006 C   0  0  0  0  0  0  0  0  0  0  0  0     1.2707   -0.5442   -0.0007 C   0  0  0  0  0  0  0  0  0  0  0  0     0.2923   -2.4449    0.0044 H   0  0  0  0  0  0  0  0  0  0  0  0    -1.9712   -1.4756    0.0000 H   0  0  0  0  0  0  0  0  0  0  0  0    -2.2635    0.9693   -0.0005 H   0  0  0  0  0  0  0  0  0  0  0  0    -0.2923    2.4449   -0.0008 H   0  0  0  0  0  0  0  0  0  0  0  0     1.9712    1.4756   -0.0001 H   0  0  0  0  0  0  0  0  0  0  0  0     2.2635   -0.9693    0.0002 H   0  0  0  0  0  0  0  0  0  0  0  0   1  2  2  0  0  0  0   2  3  1  0  0  0  0   3  4  2  0  0  0  0   4  5  1  0  0  0  0   5  6  2  0  0  0  0   1  6  1  0  0  0  0   1  7  1  0  0  0  0   2  8  1  0  0  0  0   3  9  1  0  0  0  0   4 10  1  0  0  0  0   5 11  1  0  0  0  0   6 12  1  0  0  0  0\""
   ]
  },
  {
   "cell_type": "code",
   "execution_count": 36,
   "metadata": {},
   "outputs": [],
   "source": [
    "tol = \"15 15  0  0  0  0  0  0  0  0999 V2000    -0.9259   -0.0000    0.0024 C   0  0  0  0  0  0  0  0  0  0  0  0    -0.2347   -1.1972    0.0012 C   0  0  0  0  0  0  0  0  0  0  0  0     1.1476   -1.1972   -0.0003 C   0  0  0  0  0  0  0  0  0  0  0  0     1.8388    0.0000   -0.0012 C   0  0  0  0  0  0  0  0  0  0  0  0     1.1476    1.1972   -0.0010 C   0  0  0  0  0  0  0  0  0  0  0  0    -0.2347    1.1972    0.0020 C   0  0  0  0  0  0  0  0  0  0  0  0    -2.4329   -0.0000   -0.0023 C   0  0  0  0  0  0  0  0  0  0  0  0    -0.7747   -2.1325    0.0019 H   0  0  0  0  0  0  0  0  0  0  0  0     1.6876   -2.1325   -0.0005 H   0  0  0  0  0  0  0  0  0  0  0  0     2.9188    0.0000   -0.0017 H   0  0  0  0  0  0  0  0  0  0  0  0     1.6876    2.1325   -0.0010 H   0  0  0  0  0  0  0  0  0  0  0  0    -0.7747    2.1325    0.0025 H   0  0  0  0  0  0  0  0  0  0  0  0    -2.7994   -0.0028    1.0242 H   0  0  0  0  0  0  0  0  0  0  0  0    -2.7946    0.8914   -0.5148 H   0  0  0  0  0  0  0  0  0  0  0  0    -2.7946   -0.8886   -0.5196 H   0  0  0  0  0  0  0  0  0  0  0  0   1  2  2  0  0  0  0   2  3  1  0  0  0  0   3  4  2  0  0  0  0   4  5  1  0  0  0  0   5  6  2  0  0  0  0   1  6  1  0  0  0  0   1  7  1  0  0  0  0   2  8  1  0  0  0  0   3  9  1  0  0  0  0   4 10  1  0  0  0  0   5 11  1  0  0  0  0   6 12  1  0  0  0  0   7 13  1  0  0  0  0   7 14  1  0  0  0  0   7 15  1  0  0  0  0\""
   ]
  },
  {
   "cell_type": "code",
   "execution_count": 37,
   "metadata": {
    "collapsed": true
   },
   "outputs": [],
   "source": [
    "metheth = \"9  8  0  0  0  0  0  0  0  0999 V2000     1.1985   -0.2443   -0.0000 C   0  0  0  0  0  0  0  0  0  0  0  0    -0.0000    0.5340    0.0000 O   0  0  0  0  0  0  0  0  0  0  0  0    -1.1985   -0.2443    0.0000 C   0  0  0  0  0  0  0  0  0  0  0  0     1.2233   -0.8732    0.8900 H   0  0  0  0  0  0  0  0  0  0  0  0     1.2233   -0.8732   -0.8900 H   0  0  0  0  0  0  0  0  0  0  0  0     2.0629    0.4197   -0.0000 H   0  0  0  0  0  0  0  0  0  0  0  0    -1.2233   -0.8732   -0.8900 H   0  0  0  0  0  0  0  0  0  0  0  0    -1.2233   -0.8732    0.8900 H   0  0  0  0  0  0  0  0  0  0  0  0    -2.0629    0.4197    0.0000 H   0  0  0  0  0  0  0  0  0  0  0  0   1  2  1  0  0  0  0   2  3  1  0  0  0  0   1  4  1  0  0  0  0   1  5  1  0  0  0  0   1  6  1  0  0  0  0   3  7  1  0  0  0  0   3  8  1  0  0  0  0   3  9  1  0  0  0  0\""
   ]
  },
  {
   "cell_type": "code",
   "execution_count": 31,
   "metadata": {
    "collapsed": true
   },
   "outputs": [],
   "source": [
    "doc1 = nlp(ben)\n",
    "doc2 = nlp(tol)\n",
    "doc3 = nlp(metheth)"
   ]
  },
  {
   "cell_type": "code",
   "execution_count": 32,
   "metadata": {},
   "outputs": [
    {
     "name": "stdout",
     "output_type": "stream",
     "text": [
      "-4.63083202722e-22\n",
      "4.6853836613e-22\n",
      "0.00856153364627\n"
     ]
    }
   ],
   "source": [
    "print (doc1.similarity(doc2))\n",
    "print (doc2.similarity(doc3)) \n",
    "print (doc1.similarity(doc3))"
   ]
  },
  {
   "cell_type": "code",
   "execution_count": 20,
   "metadata": {},
   "outputs": [],
   "source": [
    "import re, math\n",
    "from collections import Counter"
   ]
  },
  {
   "cell_type": "code",
   "execution_count": 21,
   "metadata": {},
   "outputs": [],
   "source": [
    "WORD = re.compile(r'\\w+')"
   ]
  },
  {
   "cell_type": "code",
   "execution_count": 22,
   "metadata": {},
   "outputs": [],
   "source": [
    "def text_to_vector(text):\n",
    "     words = WORD.findall(text)\n",
    "     return Counter(words)"
   ]
  },
  {
   "cell_type": "code",
   "execution_count": 23,
   "metadata": {},
   "outputs": [],
   "source": [
    "def get_cosine(vec1, vec2):\n",
    "     intersection = set(vec1.keys()) & set(vec2.keys())\n",
    "     numerator = sum([vec1[x] * vec2[x] for x in intersection])\n",
    "\n",
    "     sum1 = sum([vec1[x]**2 for x in vec1.keys()])\n",
    "     sum2 = sum([vec2[x]**2 for x in vec2.keys()])\n",
    "     denominator = math.sqrt(sum1) * math.sqrt(sum2)\n",
    "\n",
    "     if not denominator:\n",
    "        return 0.0\n",
    "     else:\n",
    "        return float(numerator) / denominator"
   ]
  },
  {
   "cell_type": "code",
   "execution_count": 33,
   "metadata": {
    "collapsed": true
   },
   "outputs": [],
   "source": [
    "vec1 = text_to_vector(ben)\n",
    "vec2 = text_to_vector(tol)\n",
    "vec3 = text_to_vector(metheth)"
   ]
  },
  {
   "cell_type": "code",
   "execution_count": 34,
   "metadata": {},
   "outputs": [
    {
     "name": "stdout",
     "output_type": "stream",
     "text": [
      "0.998634014865468\n",
      "0.9971591595596804\n",
      "0.9969190170948896\n"
     ]
    }
   ],
   "source": [
    "print(get_cosine(vec1, vec2))\n",
    "print(get_cosine(vec1, vec3))\n",
    "print(get_cosine(vec3, vec2))"
   ]
  },
  {
   "cell_type": "code",
   "execution_count": 44,
   "metadata": {},
   "outputs": [
    {
     "name": "stdout",
     "output_type": "stream",
     "text": [
      "405\n",
      "660\n",
      "383\n"
     ]
    }
   ],
   "source": [
    "import distance\n",
    "print(distance.levenshtein(ben, tol))\n",
    "print(distance.levenshtein(metheth, tol))\n",
    "print(distance.levenshtein(metheth, ben))"
   ]
  },
  {
   "cell_type": "code",
   "execution_count": 48,
   "metadata": {},
   "outputs": [
    {
     "name": "stdout",
     "output_type": "stream",
     "text": [
      "0.009375\n",
      "0.05484298982750995\n",
      "0.07052896725440806\n"
     ]
    }
   ],
   "source": [
    "import difflib\n",
    "print(difflib.SequenceMatcher(None,tol,ben).ratio())\n",
    "print(difflib.SequenceMatcher(None,tol,metheth).ratio())\n",
    "print(difflib.SequenceMatcher(None,metheth,ben).ratio())"
   ]
  },
  {
   "cell_type": "code",
   "execution_count": null,
   "metadata": {
    "collapsed": true
   },
   "outputs": [],
   "source": []
  }
 ],
 "metadata": {
  "kernelspec": {
   "display_name": "Python 3",
   "language": "python",
   "name": "python3"
  },
  "language_info": {
   "codemirror_mode": {
    "name": "ipython",
    "version": 3
   },
   "file_extension": ".py",
   "mimetype": "text/x-python",
   "name": "python",
   "nbconvert_exporter": "python",
   "pygments_lexer": "ipython3",
   "version": "3.6.2"
  }
 },
 "nbformat": 4,
 "nbformat_minor": 2
}
