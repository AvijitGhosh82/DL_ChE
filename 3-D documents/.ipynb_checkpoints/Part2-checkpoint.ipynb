{
 "cells": [
  {
   "cell_type": "code",
   "execution_count": 1,
   "metadata": {
    "collapsed": true
   },
   "outputs": [],
   "source": [
    "#Import all the dependencies\n",
    "import gensim\n",
    "from os import listdir\n",
    "from os.path import isfile, join\n",
    "import csv\n",
    "import codecs"
   ]
  },
  {
   "cell_type": "code",
   "execution_count": 2,
   "metadata": {
    "collapsed": true
   },
   "outputs": [],
   "source": [
    "names = []\n",
    "sols = []\n",
    "mws = []\n",
    "count=0\n",
    "\n",
    "with codecs.open('database.csv', encoding='latin-1') as csvfile:\n",
    "    reader = csv.reader(csvfile)\n",
    "    for row in reader:\n",
    "        if count>0 and count%2 == 0:\n",
    "            names.append(row[0])\n",
    "            sols.append(row[2])\n",
    "            mws.append(row[3])\n",
    "        count+=1"
   ]
  },
  {
   "cell_type": "code",
   "execution_count": 3,
   "metadata": {
    "collapsed": true
   },
   "outputs": [],
   "source": [
    "d2v_model = gensim.models.doc2vec.Doc2Vec.load('doc2vec-100.model')"
   ]
  },
  {
   "cell_type": "code",
   "execution_count": 4,
   "metadata": {},
   "outputs": [
    {
     "name": "stdout",
     "output_type": "stream",
     "text": [
      "[-0.24692422 -0.75458068 -0.03689127 -0.83706599 -0.25098851  0.41276565\n",
      " -0.13057919 -0.40369886 -0.08586971 -0.06189346  0.57709306  0.37951714\n",
      " -0.17466486 -0.38125709 -0.69636464  0.65228552  0.21458197 -0.28151888\n",
      "  0.16058196 -0.75960469 -0.1593069   0.26800406  0.5782631  -0.38039497\n",
      "  0.05090523  0.0538313  -0.20175028  0.53492439  0.70560235 -0.11941294\n",
      " -0.14817239  0.52913135  0.37289271 -0.19407651 -0.83351314 -0.14849855\n",
      "  0.40714228  0.36103514  0.07717238 -0.24600297  0.08796827 -0.01593772\n",
      " -0.79286104  0.17441757 -0.04160228 -0.22676571  0.45697382 -0.71449357\n",
      " -0.48464882 -0.808577    0.22096799 -0.75368392  0.20448251 -0.13472882\n",
      " -0.21461552  0.23221123 -0.04546889  0.49501619  0.29280049  0.33360511\n",
      "  0.33264771  0.64003193  0.07056899 -0.11266316 -0.39753571 -0.39459926\n",
      " -0.05531453  0.28290123  0.35511109  0.21243235  0.31336322  0.39336464\n",
      " -0.50120783  0.12253748  0.13067883  0.04524462  0.13254143 -0.19722262\n",
      " -0.15410458  0.32975146 -0.48484245  0.16072349 -0.28202635 -0.39934513\n",
      " -0.05449262 -0.28497761  0.12353015 -0.4113076  -0.36661491 -0.38503939\n",
      " -0.13077681  0.46025422  0.01248146  0.3065466   0.2244287  -0.268529\n",
      "  0.34257597  0.59209561  0.70831269 -1.00859153]\n"
     ]
    }
   ],
   "source": [
    "docvec = d2v_model.docvecs['Benzene'] #if string tag used in training\n",
    "print (docvec)"
   ]
  },
  {
   "cell_type": "code",
   "execution_count": 21,
   "metadata": {},
   "outputs": [],
   "source": [
    "X = []\n",
    "Y = []\n",
    "err = []\n",
    "    \n",
    "for i in range(len(sols)):\n",
    "    try:\n",
    "        Y.append(float(sols[i])) \n",
    "        X.append(d2v_model.docvecs[names[i]])\n",
    "    except:\n",
    "        if sols[i] is not None:\n",
    "            try:\n",
    "                Y.append(float(s[1:])) \n",
    "                X.append(d2v_model.docvecs[names[i]])\n",
    "            except:\n",
    "                err.append(s)        "
   ]
  },
  {
   "cell_type": "code",
   "execution_count": 22,
   "metadata": {},
   "outputs": [],
   "source": [
    "#Removing Outliers\n",
    "\n",
    "XP = []\n",
    "YP = []\n",
    "for i in range(len(Y)):\n",
    "    if Y[i]<20:\n",
    "        YP.append(Y[i])\n",
    "        XP.append(X[i])\n",
    "\n",
    "X = XP\n",
    "Y= YP"
   ]
  },
  {
   "cell_type": "code",
   "execution_count": 23,
   "metadata": {
    "collapsed": true
   },
   "outputs": [],
   "source": [
    "# Splitting the dataset into the Training set and Test set\n",
    "import pandas as pd\n",
    "import numpy as np\n",
    "from sklearn.model_selection import train_test_split\n",
    "from sklearn.preprocessing import RobustScaler, StandardScaler\n",
    "sc = StandardScaler()\n",
    "rb = RobustScaler()\n",
    "\n",
    "import matplotlib\n",
    "import matplotlib.pyplot as plt\n",
    "\n",
    "\n",
    "\n",
    "#X_train, X_test, y_train, y_test = train_test_split(X, y, test_size = 0.2)\n",
    "# X_train = sc.fit_transform(X_train)\n",
    "# X_test = sc.transform(X_test)\n",
    "X = sc.fit_transform(X)\n",
    "Y = pd.cut(Y, 500, labels=False)\n",
    "\n",
    "#Dataset is skewed, need to fix class weight.\n",
    "from sklearn.utils import class_weight\n",
    "class_weight = class_weight.compute_class_weight('balanced', np.unique(Y), Y)"
   ]
  },
  {
   "cell_type": "code",
   "execution_count": 24,
   "metadata": {},
   "outputs": [
    {
     "data": {
      "image/png": "[encoded data removed]",
      "text/plain": [
       "<matplotlib.figure.Figure at 0x1a14c149e8>"
      ]
     },
     "metadata": {},
     "output_type": "display_data"
    }
   ],
   "source": [
    "plt.plot(Y)\n",
    "plt.show()"
   ]
  },
  {
   "cell_type": "code",
   "execution_count": null,
   "metadata": {
    "collapsed": true
   },
   "outputs": [],
   "source": [
    "#Standard Starter Network\n",
    "\n",
    "# embedding then bi lstm then dense with softmax\n",
    "# if this doesn't work,  replace bilstm with first bigru\n",
    "# and then replace that with a 1d or 2d as necessary cnn"
   ]
  },
  {
   "cell_type": "code",
   "execution_count": 1,
   "metadata": {},
   "outputs": [
    {
     "name": "stderr",
     "output_type": "stream",
     "text": [
      "Using TensorFlow backend.\n"
     ]
    }
   ],
   "source": [
    "# # Importing the Keras libraries and packages\n",
    "# import keras\n",
    "# from keras.models import Sequential\n",
    "# from keras.layers import Dense, Dropout\n",
    "# from keras.optimizers import SGD\n",
    "# from keras.callbacks import EarlyStopping\n",
    "# from keras.wrappers.scikit_learn import KerasRegressor, KerasClassifier\n",
    "# from sklearn.model_selection import cross_val_score\n",
    "# from sklearn.model_selection import KFold\n",
    "# from sklearn.pipeline import Pipeline"
   ]
  },
  {
   "cell_type": "code",
   "execution_count": null,
   "metadata": {
    "collapsed": true
   },
   "outputs": [],
   "source": [
    "# # define base model\n",
    "# def baseline_model():\n",
    "#     # create model\n",
    "#     model = Sequential()\n",
    "#     model.add(Dense(10, input_dim=16, kernel_initializer='normal', activation='tanh'))\n",
    "#     #model.add(Dropout(0.2))\n",
    "#     model.add(Dense(5, kernel_initializer='uniform', activation='relu'))\n",
    "#     model.add(Dense(1, kernel_initializer='normal', activation='relu'))\n",
    "#     # Compile model\n",
    "#     model.compile(loss='mean_squared_error', optimizer='RMSProp' , metrics=['accuracy'])\n",
    "#     #model.compile(loss='mean_squared_error', optimizer='RMSProp')\n",
    "\n",
    "#     return model"
   ]
  }
 ],
 "metadata": {
  "kernelspec": {
   "display_name": "Python 3",
   "language": "python",
   "name": "python3"
  },
  "language_info": {
   "codemirror_mode": {
    "name": "ipython",
    "version": 3
   },
   "file_extension": ".py",
   "mimetype": "text/x-python",
   "name": "python",
   "nbconvert_exporter": "python",
   "pygments_lexer": "ipython3",
   "version": "3.6.2"
  }
 },
 "nbformat": 4,
 "nbformat_minor": 2
}
