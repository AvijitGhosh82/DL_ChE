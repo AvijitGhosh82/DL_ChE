{
 "cells": [
  {
   "cell_type": "code",
   "execution_count": 1,
   "metadata": {
    "collapsed": true
   },
   "outputs": [],
   "source": [
    "#Import all the dependencies\n",
    "import gensim\n",
    "from os import listdir\n",
    "from os.path import isfile, join\n",
    "import csv\n",
    "import codecs"
   ]
  },
  {
   "cell_type": "code",
   "execution_count": 2,
   "metadata": {
    "collapsed": true
   },
   "outputs": [],
   "source": [
    "names = []\n",
    "structs = []\n",
    "count=0\n",
    "\n",
    "with codecs.open('database.csv', encoding='latin-1') as csvfile:\n",
    "    reader = csv.reader(csvfile)\n",
    "    for row in reader:\n",
    "        if count>0 and count%2 == 0:\n",
    "            names.append(row[0])\n",
    "            structs.append(row[4])\n",
    "        count+=1"
   ]
  },
  {
   "cell_type": "code",
   "execution_count": 3,
   "metadata": {
    "collapsed": true
   },
   "outputs": [],
   "source": [
    "class LabeledLineSentence(object):\n",
    "    def __init__(self, doc_list, labels_list):\n",
    "        self.labels_list = labels_list\n",
    "        self.doc_list = doc_list\n",
    "    def __iter__(self):\n",
    "        for idx, doc in enumerate(self.doc_list):\n",
    "              yield gensim.models.doc2vec.LabeledSentence(doc,[self.labels_list[idx]])"
   ]
  },
  {
   "cell_type": "code",
   "execution_count": 4,
   "metadata": {
    "collapsed": true
   },
   "outputs": [],
   "source": [
    "#iterator returned over all documents\n",
    "it = LabeledLineSentence(structs, names)"
   ]
  },
  {
   "cell_type": "code",
   "execution_count": 5,
   "metadata": {},
   "outputs": [
    {
     "name": "stderr",
     "output_type": "stream",
     "text": [
      "/anaconda3/lib/python3.6/site-packages/ipykernel_launcher.py:7: DeprecationWarning: Call to deprecated `LabeledSentence` (Class will be removed in 4.0.0, use TaggedDocument instead).\n",
      "  import sys\n"
     ]
    },
    {
     "name": "stdout",
     "output_type": "stream",
     "text": [
      "iteration 1\n",
      "iteration 2\n",
      "iteration 3\n",
      "iteration 4\n",
      "iteration 5\n",
      "iteration 6\n",
      "iteration 7\n",
      "iteration 8\n",
      "iteration 9\n",
      "iteration 10\n",
      "iteration 11\n",
      "iteration 12\n",
      "iteration 13\n",
      "iteration 14\n",
      "iteration 15\n",
      "iteration 16\n",
      "iteration 17\n",
      "iteration 18\n",
      "iteration 19\n",
      "iteration 20\n",
      "iteration 21\n",
      "iteration 22\n",
      "iteration 23\n",
      "iteration 24\n",
      "iteration 25\n",
      "iteration 26\n",
      "iteration 27\n",
      "iteration 28\n",
      "iteration 29\n",
      "iteration 30\n",
      "iteration 31\n",
      "iteration 32\n",
      "iteration 33\n",
      "iteration 34\n",
      "iteration 35\n",
      "iteration 36\n",
      "iteration 37\n",
      "iteration 38\n",
      "iteration 39\n",
      "iteration 40\n",
      "iteration 41\n",
      "iteration 42\n",
      "iteration 43\n",
      "iteration 44\n",
      "iteration 45\n",
      "iteration 46\n",
      "iteration 47\n",
      "iteration 48\n",
      "iteration 49\n",
      "iteration 50\n",
      "iteration 51\n",
      "iteration 52\n",
      "iteration 53\n",
      "iteration 54\n",
      "iteration 55\n",
      "iteration 56\n",
      "iteration 57\n",
      "iteration 58\n",
      "iteration 59\n",
      "iteration 60\n",
      "iteration 61\n",
      "iteration 62\n",
      "iteration 63\n",
      "iteration 64\n",
      "iteration 65\n",
      "iteration 66\n",
      "iteration 67\n",
      "iteration 68\n",
      "iteration 69\n",
      "iteration 70\n",
      "iteration 71\n",
      "iteration 72\n",
      "iteration 73\n",
      "iteration 74\n",
      "iteration 75\n",
      "iteration 76\n",
      "iteration 77\n",
      "iteration 78\n",
      "iteration 79\n",
      "iteration 80\n",
      "iteration 81\n",
      "iteration 82\n",
      "iteration 83\n",
      "iteration 84\n",
      "iteration 85\n",
      "iteration 86\n",
      "iteration 87\n",
      "iteration 88\n",
      "iteration 89\n",
      "iteration 90\n",
      "iteration 91\n",
      "iteration 92\n",
      "iteration 93\n",
      "iteration 94\n",
      "iteration 95\n",
      "iteration 96\n",
      "iteration 97\n",
      "iteration 98\n",
      "iteration 99\n",
      "iteration 100\n",
      "model saved\n"
     ]
    }
   ],
   "source": [
    "model = gensim.models.Doc2Vec(size=100, min_count=0, alpha=0.025, min_alpha=0.025)\n",
    "model.build_vocab(it)\n",
    "#training of model\n",
    "for epoch in range(100):\n",
    "    print ('iteration '+str(epoch+1))\n",
    "    model.train(it,total_examples=model.corpus_count, epochs=model.iter)\n",
    "    model.alpha -= 0.002\n",
    "    model.min_alpha = model.alpha\n",
    "    model.train(it,total_examples=model.corpus_count, epochs=model.iter)\n",
    "\n",
    "\n",
    "#saving the created model\n",
    "model.save('doc2vec-100_2018.model')\n",
    "print ('model saved')"
   ]
  },
  {
   "cell_type": "code",
   "execution_count": 2,
   "metadata": {
    "collapsed": true
   },
   "outputs": [],
   "source": [
    "#loading the model\n",
    "d2v_model = gensim.models.doc2vec.Doc2Vec.load('doc2vec-100_2018.model')"
   ]
  },
  {
   "cell_type": "code",
   "execution_count": 3,
   "metadata": {
    "scrolled": true
   },
   "outputs": [
    {
     "name": "stdout",
     "output_type": "stream",
     "text": [
      "[-1.63742507 -0.74164444  0.41276219  0.04513706 -1.60316288 -0.37832811\n",
      " -1.13619792  1.97032952 -0.70644855  1.18388808  0.8460831   1.4239099\n",
      "  0.00938733  0.142405   -0.72043705 -0.05021449 -0.24442247 -0.78800011\n",
      " -0.34450725 -0.49861583 -1.84380543  0.28542018  0.15977226 -0.00770415\n",
      "  0.96143174  0.13581723  0.85149032  0.07759577  0.1551054   0.54771823\n",
      " -0.64239925  0.25008687 -0.57567394 -0.56509203 -0.92422092  0.4858062\n",
      " -0.04035333 -0.3677178   0.18618508  0.43448827  0.33453488 -0.35962605\n",
      " -0.16832475 -0.30468845 -1.03630376  0.05299575  0.62437934 -0.21401837\n",
      " -0.54089677 -0.39162281  0.16777195  0.30734581  0.63318121 -0.3245407\n",
      " -0.4331792   0.82086611 -0.42173088  0.14849329  0.23325028  0.13386346\n",
      "  0.51195544 -0.42288342  0.07803923 -0.10787747  0.50319791  0.46141297\n",
      " -0.63051969 -0.02757183 -0.38913241  0.25590441  0.74673808  0.34288901\n",
      "  0.08368794 -0.13128996 -0.27401254  0.29618907 -0.04331255  0.79247522\n",
      "  0.097304   -0.52673334 -0.62681633 -0.14604647 -0.07607398  0.07694144\n",
      "  1.28913081 -0.48551869 -0.18859133 -0.37315723  0.16980782  0.07399862\n",
      " -0.14448455 -0.74135214  0.64101851 -0.17254765 -0.14863403  0.53716391\n",
      " -1.04317665 -0.20540006  0.03479662  0.38670251]\n"
     ]
    }
   ],
   "source": [
    "#start testing\n",
    "#printing the vector of document at index 1 in docLabels\n",
    "docvec = d2v_model.docvecs[1]\n",
    "print (docvec)"
   ]
  },
  {
   "cell_type": "code",
   "execution_count": 4,
   "metadata": {},
   "outputs": [
    {
     "name": "stdout",
     "output_type": "stream",
     "text": [
      "[-0.47226864  0.20373625  0.15179814 -0.17282908 -0.32579422 -0.8295517\n",
      "  0.02634285  0.04999262  0.62254208 -0.0958958  -0.67780262 -0.22604725\n",
      " -0.1411978  -0.15175249 -0.06074905 -0.26150709  0.23456906  0.12328269\n",
      " -0.27107918 -0.29623514 -0.5940901   0.48481143  0.02669147  0.03197233\n",
      "  0.28670716  0.16930896  0.23726644  0.05769284 -0.21345164 -0.53672314\n",
      " -0.29396963  0.13102418 -0.10541509 -0.31664944  0.15431772  0.27536926\n",
      "  0.33108458 -0.5500586  -0.56498629 -0.15777288 -0.06167731  0.00353259\n",
      " -0.3220163  -0.21253812  0.01744213 -0.15260708  0.16725378 -0.20120813\n",
      " -0.27038077 -0.16776147  0.37582463  0.24661615 -0.06338195 -0.42830518\n",
      "  0.39318767  0.07997049 -0.32140359 -0.115228    0.04000971  0.30696082\n",
      " -0.12330236 -0.50655979 -0.00916152  0.21095936 -0.09494997  0.1777748\n",
      "  0.04772661 -0.05323589 -0.23656507  0.46229416  0.50534493 -0.23604202\n",
      " -0.02901435  0.12796843  0.24223247 -0.1363502   0.26619694 -0.08758408\n",
      " -0.11153416  0.37089399  0.28664041 -0.24760617  0.15371743 -0.33628175\n",
      " -0.08354095 -0.26361215 -0.05680859  0.19093287  0.59094965 -0.06470867\n",
      " -0.57933682  0.07555862  0.49002239 -0.2319628   0.13995929  0.48237821\n",
      " -0.19467498 -0.36965141 -0.21561939  0.04240063]\n",
      "[('p-Dimethylaminoazobenzene', 0.8689862489700317), ('Noruron', 0.8559550642967224), ('Aminopyrine', 0.8490689396858215), ('2-Aminoacridine', 0.8347235918045044), ('2,4-Dimethylquinoline', 0.8180378675460815), ('Pteridine', 0.8106858730316162), ('1-(Diphenylmethyl)-4-methylpiperazine', 0.8084942102432251), (\"4,4'-Methylenedianiline\", 0.8073837757110596), ('7-Aminopteridine', 0.8016000390052795), ('6,7-Diethylpteridine', 0.7999328374862671)]\n"
     ]
    }
   ],
   "source": [
    "docvec = d2v_model.docvecs['Aniline'] #if string tag used in training\n",
    "print (docvec)\n",
    "similar_doc = d2v_model.docvecs.most_similar(14) \n",
    "print (similar_doc)"
   ]
  },
  {
   "cell_type": "code",
   "execution_count": 9,
   "metadata": {},
   "outputs": [
    {
     "name": "stdout",
     "output_type": "stream",
     "text": [
      "[('Cyclohexene', 0.8457204103469849), ('Tetracene', 0.8299675583839417), ('Cumene', 0.822998046875), ('Chlorobenzene', 0.8092107176780701), ('1-Methylphenanthrene', 0.806721568107605), ('6-Phenylundecane', 0.8063734173774719), ('2,3-Dihydroindene', 0.8018581867218018), ('2-Methylpentane', 0.7997621297836304), ('Cyclopentane', 0.7949674725532532), ('Triphenylene', 0.7860095500946045)]\n"
     ]
    }
   ],
   "source": [
    "#to get most similar document with similarity scores using document- name\n",
    "sims = d2v_model.docvecs.most_similar('Benzene')\n",
    "print (sims)"
   ]
  },
  {
   "cell_type": "code",
   "execution_count": null,
   "metadata": {
    "collapsed": true
   },
   "outputs": [],
   "source": []
  }
 ],
 "metadata": {
  "kernelspec": {
   "display_name": "Python 3",
   "language": "python",
   "name": "python3"
  },
  "language_info": {
   "codemirror_mode": {
    "name": "ipython",
    "version": 3
   },
   "file_extension": ".py",
   "mimetype": "text/x-python",
   "name": "python",
   "nbconvert_exporter": "python",
   "pygments_lexer": "ipython3",
   "version": "3.6.3"
  }
 },
 "nbformat": 4,
 "nbformat_minor": 2
}
